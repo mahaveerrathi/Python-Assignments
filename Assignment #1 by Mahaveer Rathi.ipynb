{
 "cells": [
  {
   "cell_type": "code",
   "execution_count": 1,
   "metadata": {},
   "outputs": [
    {
     "name": "stdout",
     "output_type": "stream",
     "text": [
      "Twinkle, twinkle, little star, \n",
      "\tHow I wonder what you are! \n",
      "\t\tUp above the world so high, \n",
      "\t\tLike a diamond in the sky. \n",
      "Twinkle, twinkle, little star, \n",
      "\tHow I wonder what you are!\n"
     ]
    }
   ],
   "source": [
    "#  Output Code for Task 1 \n",
    "print(\"Twinkle, twinkle, little star, \\n\\tHow I wonder what you are! \\n\\t\\tUp above the world so high, \\n\\t\\tLike a diamond in the sky. \\nTwinkle, twinkle, little star, \\n\\tHow I wonder what you are!\")"
   ]
  },
  {
   "cell_type": "code",
   "execution_count": 2,
   "metadata": {},
   "outputs": [
    {
     "name": "stdout",
     "output_type": "stream",
     "text": [
      "I am using python 3.7.4 (default, Aug  9 2019, 18:34:13) [MSC v.1915 64 bit (AMD64)]\n"
     ]
    }
   ],
   "source": [
    "#  Output Code for Task 2 (Python program to get the Python version you are using)\n",
    "import sys\n",
    "print(\"I am using python \"+ sys.version)\n",
    "#print(sys.version)\n"
   ]
  },
  {
   "cell_type": "code",
   "execution_count": null,
   "metadata": {},
   "outputs": [],
   "source": [
    "#  Output Code for Task 3 (Write a Python program to display the current date and time.)\n",
    "import datetime\n",
    "current_DnT = datetime.datetime.now()\n",
    "print (\"Time & date according to my computer is : \")\n",
    "print (current_DnT.strftime(\"%d-%m-%y %H:%M:%S\"))"
   ]
  },
  {
   "cell_type": "code",
   "execution_count": 3,
   "metadata": {},
   "outputs": [
    {
     "name": "stdout",
     "output_type": "stream",
     "text": [
      "Input the radius of the circle : 3\n",
      "The area of the circle with radius 3.0 is: 28.274333882308138\n"
     ]
    }
   ],
   "source": [
    "#  Output Code for Task 4 - Using built-in method (Write a Python program which accepts the radius of a circle from the user and compute the area.)\n",
    "from math import pi\n",
    "r = float(input (\"Input the radius of the circle : \"))\n",
    "print (\"The area of the circle with radius \" + str(r) + \" is: \" + str(pi * r**2))\n"
   ]
  },
  {
   "cell_type": "code",
   "execution_count": 4,
   "metadata": {},
   "outputs": [
    {
     "name": "stdout",
     "output_type": "stream",
     "text": [
      "Plz Input the radius of the circle ? 3\n",
      "The area of the circle with inputted radius 3.0 is: 28.26\n"
     ]
    }
   ],
   "source": [
    "#  Output Code for Task 4 (Write a Python program which accepts the radius of a circle from the user and compute the area.)\n",
    "pi= 3.14\n",
    "radius = float(input (\"Plz Input the radius of the circle ? \"))\n",
    "print (\"The area of the circle with inputted radius \" + str(radius) + \" is: \" + str(pi * radius**2))\n"
   ]
  },
  {
   "cell_type": "code",
   "execution_count": 5,
   "metadata": {},
   "outputs": [
    {
     "name": "stdout",
     "output_type": "stream",
     "text": [
      "Kindly enter your first name : Mahaveer\n",
      "Kindly enter your last name : Rathi\n",
      "Hello Rathi Mahaveer\n"
     ]
    }
   ],
   "source": [
    "#  Output Code for Task 5 (Write a Python program which accepts the user's first and last name and print them in reverse order with a space between them.)\n",
    "\n",
    "f_name = input(\"Kindly enter your first name : \")\n",
    "l_name = input(\"Kindly enter your last name : \")\n",
    "print (\"Hello \" +l_name+ \" \" + f_name)"
   ]
  },
  {
   "cell_type": "code",
   "execution_count": 6,
   "metadata": {},
   "outputs": [
    {
     "name": "stdout",
     "output_type": "stream",
     "text": [
      "Enter first number: 67\n",
      "Enter second number: 33\n",
      "The sum of inputted numbers is:  100\n"
     ]
    }
   ],
   "source": [
    "#  Output Code for Task 6 (Write a python program which takes two inputs from user and print them addition)\n",
    "first = input('Enter first number: ')\n",
    "second = input('Enter second number: ')\n",
    "add=int(first)+int(second)\n",
    "print(\"The sum of inputted numbers is: \",add)"
   ]
  },
  {
   "cell_type": "code",
   "execution_count": null,
   "metadata": {},
   "outputs": [],
   "source": []
  },
  {
   "cell_type": "code",
   "execution_count": null,
   "metadata": {},
   "outputs": [],
   "source": []
  }
 ],
 "metadata": {
  "kernelspec": {
   "display_name": "Python 3",
   "language": "python",
   "name": "python3"
  },
  "language_info": {
   "codemirror_mode": {
    "name": "ipython",
    "version": 3
   },
   "file_extension": ".py",
   "mimetype": "text/x-python",
   "name": "python",
   "nbconvert_exporter": "python",
   "pygments_lexer": "ipython3",
   "version": "3.7.4"
  }
 },
 "nbformat": 4,
 "nbformat_minor": 2
}
