{
 "cells": [
  {
   "cell_type": "markdown",
   "metadata": {},
   "source": [
    "# Assignment # 3"
   ]
  },
  {
   "cell_type": "markdown",
   "metadata": {},
   "source": [
    "# TASK 1  - Make a calculator using Python with Addition, Subtraction, Multiplication , Division and Power."
   ]
  },
  {
   "cell_type": "code",
   "execution_count": 1,
   "metadata": {},
   "outputs": [
    {
     "name": "stdout",
     "output_type": "stream",
     "text": [
      "Welcome to Multi Choice Calculator, Select a Choice from:\n",
      "1. Addition  2. Subtract  3. Multiplication  4. Division  5. Power  \n",
      " Select Operation: 4\n",
      "\n",
      "\n",
      "Enter first number: 33\n",
      "Enter second number: 2\n",
      "\n",
      "\n",
      "33.0  /  2.0 = 16.5\n"
     ]
    }
   ],
   "source": [
    "# This function adds two numbers \n",
    "def addition(x, y):\n",
    "   return x + y\n",
    "\n",
    "def subtraction(x, y):\n",
    "   return x - y\n",
    "\n",
    "def multiplication(x, y):\n",
    "   return x * y\n",
    "\n",
    "def division(x, y):\n",
    "   return x / y\n",
    "\n",
    "def power(x, y):\n",
    "   return x ** y\n",
    "\n",
    "choice = input('''Welcome to Multi Choice Calculator, Select a Choice from:\n",
    "1. Addition  2. Subtract  3. Multiplication  4. Division  5. Power  \\n Select Operation: ''')\n",
    "print('\\n')\n",
    "val1 = float(input(\"Enter first number: \"))\n",
    "val2 = float(input(\"Enter second number: \"))\n",
    "print('\\n')\n",
    "if choice == '1':\n",
    "   print(val1,\" + \",val2,\"=\", addition(val1,val2))\n",
    "elif choice == '2':\n",
    "   print(val1,\" - \",val2,\"=\", subtraction(val1,val2))\n",
    "elif choice == '3':\n",
    "   print(val1,\" * \",val2,\"=\", multiplication(val1,val2))\n",
    "elif choice == '4':\n",
    "   print(val1,\" / \",val2,\"=\", division(val1,val2))\n",
    "elif choice == '5':\n",
    "   print(val1,\" POWER ^ \",val2,\"=\", power(val1,val2))\n",
    "else:\n",
    "   print(\"Invalid Value is incorrect\")\n"
   ]
  },
  {
   "cell_type": "markdown",
   "metadata": {},
   "source": [
    "# TASK 2 - Write a program to check if there is any numeric value in list using for loop."
   ]
  },
  {
   "cell_type": "code",
   "execution_count": 2,
   "metadata": {},
   "outputs": [
    {
     "name": "stdout",
     "output_type": "stream",
     "text": [
      "Alert ! Interger Value found !!!\n"
     ]
    }
   ],
   "source": [
    "num_list = [41, 32, 985, 0, 'Mahaveer', 'Says', 'Hi']\n",
    "counter=0\n",
    "for i in num_list:\n",
    "    if type(i) == int:\n",
    "        counter = 1\n",
    "        \n",
    "if counter == 1:\n",
    "    print('Alert ! Interger Value found !!!')\n",
    "else:\n",
    "    print('Hurry, NO Integer Value')"
   ]
  },
  {
   "cell_type": "markdown",
   "metadata": {},
   "source": [
    "# TASK 3 - Write a Python script to add a key to a dictionary"
   ]
  },
  {
   "cell_type": "code",
   "execution_count": 3,
   "metadata": {},
   "outputs": [
    {
     "name": "stdout",
     "output_type": "stream",
     "text": [
      "RESULT without Addition {20: 21, 1: 49}\n",
      "RESULT After Adding new key {20: 21, 1: 49, 12: 36}\n"
     ]
    }
   ],
   "source": [
    "dic = {20:21, 1:49}\n",
    "print(\"RESULT without Addition \" + str(dic))\n",
    "dic.update({12:36})\n",
    "print(\"RESULT After Adding new key \" + str(dic))"
   ]
  },
  {
   "cell_type": "markdown",
   "metadata": {},
   "source": [
    "# TASK 4 - Write a Python program to sum all the numeric items in a dictionary"
   ]
  },
  {
   "cell_type": "code",
   "execution_count": 4,
   "metadata": {},
   "outputs": [
    {
     "name": "stdout",
     "output_type": "stream",
     "text": [
      "6\n"
     ]
    }
   ],
   "source": [
    "sum_of_all_no=0\n",
    "dic1 = {3:10, 0:20, 2:97, 1:\"Hello\"}\n",
    "for i in dic1:\n",
    "    if type(i) == int:\n",
    "        sum_of_all_no = sum_of_all_no+i\n",
    "print(sum_of_all_no)"
   ]
  },
  {
   "cell_type": "markdown",
   "metadata": {},
   "source": [
    "# TASK 5 - Write a program to identify duplicate values from list"
   ]
  },
  {
   "cell_type": "code",
   "execution_count": 7,
   "metadata": {},
   "outputs": [
    {
     "name": "stdout",
     "output_type": "stream",
     "text": [
      "[210, 201, 320, -201]\n"
     ]
    }
   ],
   "source": [
    "def Repeat(x): \n",
    "    size = len(x) \n",
    "    repeated = [] \n",
    "    for i in range(size): \n",
    "        k = i + 1\n",
    "        for j in range(k, size): \n",
    "            if x[i] == x[j] and x[i] not in repeated: \n",
    "                repeated.append(x[i]) \n",
    "    return repeated \n",
    "  \n",
    "\n",
    "duplicate_values_list = [210, 201, 320, 201, 210, 201, 320, 40,  50, -20, 60, 620, -201, -201] \n",
    "print (Repeat(duplicate_values_list))"
   ]
  },
  {
   "cell_type": "markdown",
   "metadata": {},
   "source": [
    "# TASK 6 - Write a Python script to check if a given key already exists in a dictionary"
   ]
  },
  {
   "cell_type": "code",
   "execution_count": 1,
   "metadata": {},
   "outputs": [
    {
     "name": "stdout",
     "output_type": "stream",
     "text": [
      "Key is already Present,  value of Key is = 109\n"
     ]
    }
   ],
   "source": [
    "def checkKey(dict, key): \n",
    "      \n",
    "    if key in dict.keys(): \n",
    "        print(\"Key is already Present, \", end =\" \") \n",
    "        print(\"value of Key is =\", dict[key]) \n",
    "    else: \n",
    "        print(\"Sorry, Record not found\") \n",
    "\n",
    "dict = {'f': 109, 'g':323, 'k':730} \n",
    "  \n",
    "  \n",
    "key = 'f'\n",
    "checkKey(dict, key)"
   ]
  },
  {
   "cell_type": "code",
   "execution_count": null,
   "metadata": {},
   "outputs": [],
   "source": []
  },
  {
   "cell_type": "code",
   "execution_count": null,
   "metadata": {},
   "outputs": [],
   "source": []
  }
 ],
 "metadata": {
  "kernelspec": {
   "display_name": "Python 3",
   "language": "python",
   "name": "python3"
  },
  "language_info": {
   "codemirror_mode": {
    "name": "ipython",
    "version": 3
   },
   "file_extension": ".py",
   "mimetype": "text/x-python",
   "name": "python",
   "nbconvert_exporter": "python",
   "pygments_lexer": "ipython3",
   "version": "3.7.4"
  }
 },
 "nbformat": 4,
 "nbformat_minor": 2
}
