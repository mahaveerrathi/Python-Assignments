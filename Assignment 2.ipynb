{
 "cells": [
  {
   "cell_type": "markdown",
   "metadata": {},
   "source": [
    "## TASK # 1 for 5 subjects i/p & Gardes"
   ]
  },
  {
   "cell_type": "code",
   "execution_count": 7,
   "metadata": {},
   "outputs": [
    {
     "name": "stdout",
     "output_type": "stream",
     "text": [
      "Enter makrs of Subject 1: 44\n",
      "Enter makrs of Subject 2: 66\n",
      "Enter makrs of Subject 3: 77\n",
      "Enter makrs of Subject 4: 88\n",
      "Enter makrs of Subject 5: 99\n",
      "74.8\n",
      "You have got A Grade\n"
     ]
    }
   ],
   "source": [
    "marks_sub1 = int(input(\"Enter makrs of Subject 1: \"))\n",
    "marks_sub2 = int(input(\"Enter makrs of Subject 2: \"))\n",
    "marks_sub3 = int(input(\"Enter makrs of Subject 3: \"))\n",
    "marks_sub4 = int(input(\"Enter makrs of Subject 4: \"))\n",
    "marks_sub5 = int(input(\"Enter makrs of Subject 5: \"))\n",
    "\n",
    "total_marks = (marks_sub1 + marks_sub2 + marks_sub3 + marks_sub4 + marks_sub5)/5\n",
    "print (total_marks)\n",
    "if total_marks >= 80 and total_marks <100:\n",
    "    print(\"Congrats, You have got A1 Grade\")\n",
    "elif total_marks >= 70 and total_marks <80:\n",
    "    print(\"You have got A Grade\")\n",
    "elif total_marks >= 60 and total_marks <70:\n",
    "    print(\"You have got B Grade\")\n",
    "elif total_marks >= 55 and total_marks <60:\n",
    "    print(\"You have got C Grade\")\n",
    "elif total_marks >= 50 and total_marks <55:\n",
    "    print(\"You have got D Grade\")\n",
    "else:\n",
    "    print(\"Sorry, You are FAIL\")\n",
    "\n"
   ]
  },
  {
   "cell_type": "markdown",
   "metadata": {},
   "source": [
    "## TASK # 2 for EVEN / ODD"
   ]
  },
  {
   "cell_type": "code",
   "execution_count": null,
   "metadata": {},
   "outputs": [],
   "source": [
    "chk_no = int(input(\"Enter any number: \"))\n",
    "if ch_no%2 == 0:\n",
    "    print(\"Inputted no is Even\")\n",
    "else:\n",
    "    print(\"Inputted no is Odd\")"
   ]
  },
  {
   "cell_type": "markdown",
   "metadata": {},
   "source": [
    "## TASK # 3 for Length of LIST"
   ]
  },
  {
   "cell_type": "code",
   "execution_count": 9,
   "metadata": {},
   "outputs": [
    {
     "name": "stdout",
     "output_type": "stream",
     "text": [
      "5\n"
     ]
    }
   ],
   "source": [
    "str_len = [\"41\",\"62\",\"37\",\"887\",\"1037\"]\n",
    "print(len(str_len))"
   ]
  },
  {
   "cell_type": "markdown",
   "metadata": {},
   "source": [
    "## TASK # 4 for SUM of LIST"
   ]
  },
  {
   "cell_type": "code",
   "execution_count": 13,
   "metadata": {},
   "outputs": [
    {
     "name": "stdout",
     "output_type": "stream",
     "text": [
      "50\n"
     ]
    }
   ],
   "source": [
    "total_sum = [13,12,25]\n",
    "sum = 0\n",
    "for i in total_sum:\n",
    "    sum += i\n",
    "print(sum)"
   ]
  },
  {
   "cell_type": "markdown",
   "metadata": {},
   "source": [
    "## TASK # 5, Print Largest Number from List"
   ]
  },
  {
   "cell_type": "code",
   "execution_count": 14,
   "metadata": {},
   "outputs": [
    {
     "data": {
      "text/plain": [
       "735"
      ]
     },
     "execution_count": 14,
     "metadata": {},
     "output_type": "execute_result"
    }
   ],
   "source": [
    "larger_no = [65,735,683,51,70,44]\n",
    "larger_no.sort(key = None, reverse = True)\n",
    "larger_no.pop(0)"
   ]
  },
  {
   "cell_type": "markdown",
   "metadata": {},
   "source": [
    "## TASK # 6, Print Numbers Less than 5"
   ]
  },
  {
   "cell_type": "code",
   "execution_count": 16,
   "metadata": {},
   "outputs": [
    {
     "name": "stdout",
     "output_type": "stream",
     "text": [
      "4\n",
      "1\n",
      "0\n",
      "3\n"
     ]
    }
   ],
   "source": [
    "series = [4,1,8,9,0,13,3,88]\n",
    "for i in series:\n",
    "    if i < 5:\n",
    "        print(i)"
   ]
  },
  {
   "cell_type": "code",
   "execution_count": null,
   "metadata": {},
   "outputs": [],
   "source": []
  }
 ],
 "metadata": {
  "kernelspec": {
   "display_name": "Python 3",
   "language": "python",
   "name": "python3"
  },
  "language_info": {
   "codemirror_mode": {
    "name": "ipython",
    "version": 3
   },
   "file_extension": ".py",
   "mimetype": "text/x-python",
   "name": "python",
   "nbconvert_exporter": "python",
   "pygments_lexer": "ipython3",
   "version": "3.7.4"
  }
 },
 "nbformat": 4,
 "nbformat_minor": 2
}
