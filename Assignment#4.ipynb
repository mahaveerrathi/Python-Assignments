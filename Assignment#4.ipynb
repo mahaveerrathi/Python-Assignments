{
 "cells": [
  {
   "cell_type": "markdown",
   "metadata": {},
   "source": [
    "# Assignment # 4\n",
    "\n",
    "TASK 1 - \n",
    "\n",
    "Use a dictionary to store information about a person you know. Store their first name, last name, age and the city in which they live. You should have keys such as first_name, last_name, age, and city. Print each piece of information stored in your dictionary. Add a new key value pair about qualification then update the qualification value to high academic level then delete it."
   ]
  },
  {
   "cell_type": "code",
   "execution_count": 1,
   "metadata": {},
   "outputs": [
    {
     "name": "stdout",
     "output_type": "stream",
     "text": [
      "{'first_name': 'MAHAVEER', 'last_name': 'RATHI', 'age': 30, 'city': 'HYDERABAD'}\n"
     ]
    }
   ],
   "source": [
    "info = {\n",
    "    'first_name': 'MAHAVEER',\n",
    "    'last_name': 'RATHI',\n",
    "    'age' : 30,\n",
    "    'city': 'HYDERABAD'\n",
    "}\n",
    "info['qualification'] = 'ME - IT'\n",
    "del info['qualification']\n",
    "print(info)"
   ]
  },
  {
   "cell_type": "markdown",
   "metadata": {},
   "source": [
    "# TASK - 2\n",
    "\n",
    "Make a dictionary called cities. Use the names of three cities as keys in your dictionary. Create a dictionary of information about each city and include the country that the city is in, its approximate population, and one fact about that city. The keys for each city’s dictionary should be something like country, population, and fact. Print the name of each city and all of the information you have stored about it."
   ]
  },
  {
   "cell_type": "code",
   "execution_count": 2,
   "metadata": {},
   "outputs": [
    {
     "name": "stdout",
     "output_type": "stream",
     "text": [
      "\n",
      "Karachi is in Pakistan.\n",
      "  Population according to Wikipedia is: 14916456.\n",
      "  The Capital City Of Sindh\n",
      "\n",
      "Hyderabad is in Pakistan.\n",
      "  Population according to Wikipedia is: 6809970.\n",
      "  The Oldest City\n",
      "\n",
      "Victoria is in Canada.\n",
      "  Population according to Wikipedia is: 85792.\n",
      "  The Capital Of British Columbia\n"
     ]
    }
   ],
   "source": [
    "\n",
    "cities = {\n",
    "    'karachi':{\n",
    "        'country': 'Pakistan',\n",
    "        'population': 14916456,\n",
    "        'fact': 'Capital City of Sindh'\n",
    "    },\n",
    "    'Hyderabad':{\n",
    "        'country': 'Pakistan',\n",
    "        'population': 6809970,\n",
    "        'fact': 'oldest city'\n",
    "    },\n",
    "    'Victoria':{\n",
    "        'country': 'Canada',\n",
    "        'population': 85792,\n",
    "        'fact': 'Capital of British Columbia'\n",
    "    }\n",
    "    \n",
    "}\n",
    "for city, city_info in cities.items():\n",
    "    country = city_info['country'].title()\n",
    "    population = city_info['population']\n",
    "    fact = city_info['fact'].title()\n",
    "\n",
    "    print(\"\\n\" + city.title() + \" is in \" + country + \".\")\n",
    "    print(\"  Population according to Wikipedia is: \" + str(population) + \".\")\n",
    "    print(\"  The \" + fact)\n"
   ]
  },
  {
   "cell_type": "markdown",
   "metadata": {},
   "source": [
    "# TASK - 3\n",
    "A movie theater charges different ticket prices depending on a person’s age. If a person is under the age of 3, the ticket is free; if they are between 3 and 12, the ticket is $10; and if they are over age 12, the ticket is $15. Write a loop in which you ask users their age, and then tell them the cost of their movie ticket."
   ]
  },
  {
   "cell_type": "code",
   "execution_count": 3,
   "metadata": {},
   "outputs": [
    {
     "name": "stdout",
     "output_type": "stream",
     "text": [
      "Enter your age?\n",
      "Press 'e' to Exit 1\n",
      "$0 Chareged, FREE Entry\n",
      "Enter your age?\n",
      "Press 'e' to Exit 4\n",
      "Pay $10 for ticket.\n",
      "Enter your age?\n",
      "Press 'e' to Exit 70\n",
      "Pay $15 for ticket.\n",
      "Enter your age?\n",
      "Press 'e' to Exit e\n"
     ]
    }
   ],
   "source": [
    "prompt = \"Enter your age?\"\n",
    "prompt += \"\\nPress 'e' to Exit \"\n",
    "\n",
    "while True:\n",
    "    age = input(prompt)\n",
    "    if age == 'e':\n",
    "        break\n",
    "    age = int(age)\n",
    "\n",
    "    if age < 3:\n",
    "        print(\"$0 Chareged, FREE Entry\")\n",
    "    elif age < 13:\n",
    "        print(\"Pay $10 for ticket.\")\n",
    "    else:\n",
    "        print(\"Pay $15 for ticket.\")"
   ]
  },
  {
   "cell_type": "markdown",
   "metadata": {},
   "source": [
    "# TASK - 4\n",
    "Write a function called favorite_book() that accepts one parameter, title. The function should print a message, such as One of my favorite books is Alice in Wonderland. Call the function, making sure to include a book title as an argument in the function call. "
   ]
  },
  {
   "cell_type": "code",
   "execution_count": 4,
   "metadata": {},
   "outputs": [
    {
     "name": "stdout",
     "output_type": "stream",
     "text": [
      "One of my favorite book is: In Search of Lost Time\n"
     ]
    }
   ],
   "source": [
    "def favorite_book(title):\n",
    "    print(\"One of my favorite book is: \" + title)\n",
    "favorite_book('In Search of Lost Time')"
   ]
  },
  {
   "cell_type": "markdown",
   "metadata": {},
   "source": [
    "# TASK - 5\n",
    "Guess the number game\n",
    "\n",
    "Write a program which randomly generate a number between 1 to 30 and ask the user in input field to guess the correct number. Give three chances to user guess the number and also give hint to user if hidden number is greater or smaller than the number he given to input field."
   ]
  },
  {
   "cell_type": "code",
   "execution_count": 5,
   "metadata": {},
   "outputs": [
    {
     "name": "stdout",
     "output_type": "stream",
     "text": [
      "Guess a Number.4\n",
      "You have entered Smalller number than the Secret number, Try Again !!!\n",
      "Guess a Number.45\n",
      "You have entered Larger number than the Secret number, Try Again !!!\n",
      "Guess a Number.25\n",
      "You have entered Smalller number than the Secret number, Try Again !!!\n",
      "GAME OVER.\n"
     ]
    }
   ],
   "source": [
    "import random\n",
    "for inp_num in range(1):\n",
    "    answer = random.randint(1,30)\n",
    "cond = True\n",
    "credit = 0\n",
    "\n",
    "while(cond !=  False):\n",
    "    if credit == 3:\n",
    "        print(\"GAME OVER.\")\n",
    "        break\n",
    "    guessNumber = int(input(\"Guess a Number.\"))\n",
    "    if guessNumber == answer:\n",
    "        print(\"You won the Game.\")\n",
    "    elif guessNumber > answer:\n",
    "        print(\"You have entered Larger number than the Secret number, Try Again !!!\")\n",
    "    else:\n",
    "        print(\"You have entered Smalller number than the Secret number, Try Again !!!\")\n",
    "    cond = True\n",
    "    credit += 1"
   ]
  }
 ],
 "metadata": {
  "kernelspec": {
   "display_name": "Python 3",
   "language": "python",
   "name": "python3"
  },
  "language_info": {
   "codemirror_mode": {
    "name": "ipython",
    "version": 3
   },
   "file_extension": ".py",
   "mimetype": "text/x-python",
   "name": "python",
   "nbconvert_exporter": "python",
   "pygments_lexer": "ipython3",
   "version": "3.7.4"
  }
 },
 "nbformat": 4,
 "nbformat_minor": 2
}
